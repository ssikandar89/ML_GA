{
  "nbformat": 4,
  "nbformat_minor": 0,
  "metadata": {
    "colab": {
      "name": "A/B testing.ipynb",
      "provenance": []
    },
    "kernelspec": {
      "name": "python3",
      "display_name": "Python 3"
    },
    "language_info": {
      "name": "python"
    }
  },
  "cells": [
    {
      "cell_type": "code",
      "metadata": {
        "colab": {
          "base_uri": "https://localhost:8080/"
        },
        "id": "64QcVKRm36Oc",
        "outputId": "67335c6b-3a18-4a40-c7ad-f85aee28922c"
      },
      "source": [
        "from google.colab import drive\n",
        "drive.mount('/content/drive')"
      ],
      "execution_count": null,
      "outputs": [
        {
          "output_type": "stream",
          "text": [
            "Mounted at /content/drive\n"
          ],
          "name": "stdout"
        }
      ]
    },
    {
      "cell_type": "code",
      "metadata": {
        "id": "DH4W9V624E9W"
      },
      "source": [
        "import pandas as pd\n",
        "import numpy as np\n",
        "import random\n",
        "import matplotlib.pyplot as plt\n",
        "%matplotlib inline\n",
        "random.seed(55)"
      ],
      "execution_count": null,
      "outputs": []
    },
    {
      "cell_type": "code",
      "metadata": {
        "id": "IaQ-cPsE4ULm"
      },
      "source": [
        "df = pd.read_csv('/content/drive/MyDrive/ab_data.csv')"
      ],
      "execution_count": null,
      "outputs": []
    },
    {
      "cell_type": "code",
      "metadata": {
        "id": "bfOi8jxa5trc"
      },
      "source": [
        "df.groupby(['group','converted']).agg('count')"
      ],
      "execution_count": null,
      "outputs": []
    },
    {
      "cell_type": "code",
      "metadata": {
        "id": "KGU5_PFg6SL6"
      },
      "source": [
        "df.info()"
      ],
      "execution_count": null,
      "outputs": []
    },
    {
      "cell_type": "code",
      "metadata": {
        "id": "aM4vY8R86orv"
      },
      "source": [
        "df[df.duplicated(['user_id'], keep=False)]"
      ],
      "execution_count": null,
      "outputs": []
    },
    {
      "cell_type": "code",
      "metadata": {
        "id": "csIf7ZXX6v9e"
      },
      "source": [
        "df.drop_duplicates(['user_id'], inplace=True)"
      ],
      "execution_count": null,
      "outputs": []
    },
    {
      "cell_type": "code",
      "metadata": {
        "id": "VApGjrvZ62o4"
      },
      "source": [
        "assert len(df['user_id'].unique()) == df['user_id'].size"
      ],
      "execution_count": null,
      "outputs": []
    },
    {
      "cell_type": "code",
      "metadata": {
        "id": "J5relIxT67zd"
      },
      "source": [
        "df.info()"
      ],
      "execution_count": null,
      "outputs": []
    },
    {
      "cell_type": "code",
      "metadata": {
        "id": "lIxGlOpp6_YC"
      },
      "source": [
        "df['converted'].mean()"
      ],
      "execution_count": null,
      "outputs": []
    },
    {
      "cell_type": "code",
      "metadata": {
        "id": "RSDxkYqV7JZq"
      },
      "source": [
        "df.groupby(['group']).describe()"
      ],
      "execution_count": null,
      "outputs": []
    },
    {
      "cell_type": "code",
      "metadata": {
        "id": "u9OeWtKs7UOH"
      },
      "source": [
        "df.groupby(['group']).agg({'converted' : ['sum', 'count', 'mean']})"
      ],
      "execution_count": null,
      "outputs": []
    },
    {
      "cell_type": "code",
      "metadata": {
        "id": "HvJ16SRu7ina"
      },
      "source": [
        "df[['group', 'converted']].groupby(['group']).agg('mean').T"
      ],
      "execution_count": null,
      "outputs": []
    },
    {
      "cell_type": "code",
      "metadata": {
        "id": "C4Mgwi0P7oqJ"
      },
      "source": [
        "p_old_page = df[['group', 'converted']].query(\"group == 'control'\")['converted'].mean()\n",
        "p_new_page = df[['group', 'converted']].query(\"group == 'treatment'\")['converted'].mean()\n",
        "act_p_diff = p_new_page - p_old_page\n",
        "\n",
        "print('p_old_page:\\t{}\\np_new_page:\\t{}\\np_diff:\\t\\t{}'.format(p_old_page, p_new_page, act_p_diff))"
      ],
      "execution_count": null,
      "outputs": []
    },
    {
      "cell_type": "code",
      "metadata": {
        "id": "sSLQ3qBB7srh"
      },
      "source": [
        "n_old =  len(df[['group']].query(\"group == 'control'\"))\n",
        "n_new =  len(df[['group']].query(\"group == 'treatment'\"))\n",
        "\n",
        "print('n_old:\\t{}\\nn_new:\\t{}'.format(n_old, n_new))"
      ],
      "execution_count": null,
      "outputs": []
    },
    {
      "cell_type": "code",
      "metadata": {
        "id": "2zMuhtgn74j2"
      },
      "source": [
        "p_diffs = []\n",
        "\n",
        "for _ in range(10000):\n",
        "    new_page_converted = np.random.choice([1, 0], size=n_new, p=[p_new_page, (1 - p_new_page)]).mean()\n",
        "    old_page_converted = np.random.choice([1, 0], size=n_old, p=[p_old_page, (1 - p_old_page)]).mean()\n",
        "    diff = new_page_converted - old_page_converted\n",
        "    p_diffs.append(diff)"
      ],
      "execution_count": null,
      "outputs": []
    },
    {
      "cell_type": "code",
      "metadata": {
        "id": "VM1IkLSu79At"
      },
      "source": [
        "plt.hist(p_diffs)\n",
        "plt.xlabel('p_diffs')\n",
        "plt.ylabel('Frequency')\n",
        "plt.title('Plot of 10K simulated p_diffs');"
      ],
      "execution_count": null,
      "outputs": []
    },
    {
      "cell_type": "code",
      "metadata": {
        "id": "HmA3Btk58KGY"
      },
      "source": [
        "p_diffs = np.array(p_diffs)\n",
        "(act_p_diff < p_diffs).mean()"
      ],
      "execution_count": null,
      "outputs": []
    },
    {
      "cell_type": "code",
      "metadata": {
        "id": "j3L_cSkq8QUD"
      },
      "source": [
        "import statsmodels.api as sm\n",
        "\n",
        "convert_old = sum(df.query(\"group == 'control'\")['converted'])\n",
        "convert_new = sum(df.query(\"group == 'treatment'\")['converted'])\n",
        "\n",
        "z_score, p_value = sm.stats.proportions_ztest([convert_old, convert_new], [n_old, n_new], alternative='smaller')\n",
        "print('z_critical_value: ', z_score)\n",
        "print('p_critical_value: ', p_value)"
      ],
      "execution_count": null,
      "outputs": []
    },
    {
      "cell_type": "code",
      "metadata": {
        "id": "YWTdftps842y"
      },
      "source": [
        "from scipy.stats import norm\n",
        "\n",
        "print('p-value: ', norm.cdf(z_score))\n",
        "# Tells us how significant our z-score is\n",
        "\n",
        "# for our single-sides test, assumed at 95% confidence level, we calculate: \n",
        "print('z_alfa: ', norm.ppf(1 - (0.05)))"
      ],
      "execution_count": null,
      "outputs": []
    },
    {
      "cell_type": "code",
      "metadata": {
        "id": "CoHIe1Uj88uH"
      },
      "source": [
        "# sm.stats.zt_ind_solve_power(effect_size=-0.0048, alpha=0.05, power=0.1, alternative='smaller')\n",
        "from statsmodels.stats import power as pwr\n",
        "from statsmodels.stats.proportion import proportion_effectsize\n",
        "\n",
        "es = proportion_effectsize(p_new_page, p_old_page)\n",
        "ratio = (n_new / n_old)\n",
        "power = pwr.NormalIndPower().power(es, n_old / ratio, alpha=0.05, ratio=ratio, alternative='smaller')\n",
        "beta = 1 - power\n",
        "\n",
        "print('power: ', power)\n",
        "print('beta: ', beta)"
      ],
      "execution_count": null,
      "outputs": []
    }
  ]
}